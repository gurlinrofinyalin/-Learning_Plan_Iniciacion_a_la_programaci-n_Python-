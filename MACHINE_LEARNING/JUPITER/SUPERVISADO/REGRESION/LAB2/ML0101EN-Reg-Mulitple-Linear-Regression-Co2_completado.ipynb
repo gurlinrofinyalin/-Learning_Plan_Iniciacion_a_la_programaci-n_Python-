{
 "cells": [
  {
   "cell_type": "markdown",
   "metadata": {},
   "source": [
    "<p style=\"text-align:center\">\n",
    "    <a href=\"https://skills.network\" target=\"_blank\">\n",
    "    <img src=\"https://cf-courses-data.s3.us.cloud-object-storage.appdomain.cloud/assets/logos/SN_web_lightmode.png\" width=\"200\" alt=\"Skills Network Logo\">\n",
    "    </a>\n",
    "</p>\n",
    "\n",
    "\n",
    "# Multiple Linear Regression\n",
    "\n",
    "\n",
    "Estimated time needed: **15** minutes\n",
    "    \n",
    "\n",
    "## Objectives\n",
    "\n",
    "After completing this lab you will be able to:\n",
    "\n",
    "* Use scikit-learn to implement Multiple Linear Regression\n",
    "* Create a model, train it, test it and use the model\n"
   ]
  },
  {
   "cell_type": "markdown",
   "metadata": {},
   "source": [
    "<h1>Table of contents</h1>\n",
    "\n",
    "<div class=\"alert alert-block alert-info\" style=\"margin-top: 20px\">\n",
    "    <ol>\n",
    "        <li><a href=\"#understanding-data\">Understanding the Data</a></li>\n",
    "        <li><a href=\"#reading_data\">Reading the Data in</a></li>\n",
    "        <li><a href=\"#multiple_regression_model\">Multiple Regression Model</a></li>\n",
    "        <li><a href=\"#prediction\">Prediction</a></li>\n",
    "        <li><a href=\"#practice\">Practice</a></li>\n",
    "    </ol>\n",
    "</div>\n",
    "<br>\n",
    "<hr>\n"
   ]
  },
  {
   "cell_type": "markdown",
   "metadata": {},
   "source": [
    "### Importing Needed packages\n"
   ]
  },
  {
   "cell_type": "code",
   "execution_count": 15,
   "metadata": {
    "tags": []
   },
   "outputs": [],
   "source": [
    "# Importa la librería matplotlib para la creación de gráficos\n",
    "import matplotlib.pyplot as plt\n",
    "\n",
    "# Importa la librería pandas para el manejo y análisis de datos\n",
    "import pandas as pd\n",
    "\n",
    "# Importa la librería pylab (parte de matplotlib), a menudo usada junto a numpy\n",
    "import pylab as pl\n",
    "\n",
    "# Importa la librería numpy para operaciones numéricas y matemáticas eficientes\n",
    "import numpy as np\n",
    "\n",
    "# Configura matplotlib para mostrar los gráficos directamente en el notebook\n",
    "# (esto es específico de Jupyter/IPython)\n",
    "%matplotlib inline"
   ]
  },
  {
   "cell_type": "markdown",
   "metadata": {},
   "source": [
    "### Downloading Data\n",
    "To download the data, we will use !wget to download it from IBM Object Storage.\n",
    "Para descargar los datos, utilizaremos !wget para descargarlos desde IBM Object Storage.\n"
   ]
  },
  {
   "cell_type": "code",
   "execution_count": 16,
   "metadata": {
    "tags": []
   },
   "outputs": [
    {
     "name": "stdout",
     "output_type": "stream",
     "text": [
      "[0] Downloading 'https://cf-courses-data.s3.us.cloud-object-storage.appdomain.cloud/IBMDeveloperSkillsNetwork-ML0101EN-SkillsNetwork/labs/Module%202/data/FuelConsumptionCo2.csv' ...\n",
      "Saving 'FuelConsumption.csv'\n",
      "HTTP response 200 OK [https://cf-courses-data.s3.us.cloud-object-storage.appdomain.cloud/IBMDeveloperSkillsNetwork-ML0101EN-SkillsNetwork/labs/Module%202/data/FuelConsumptionCo2.csv]\n",
      "\u001b[m\u001b[m\u001b[m\u001b[m"
     ]
    }
   ],
   "source": [
    "!wget -O FuelConsumption.csv https://cf-courses-data.s3.us.cloud-object-storage.appdomain.cloud/IBMDeveloperSkillsNetwork-ML0101EN-SkillsNetwork/labs/Module%202/data/FuelConsumptionCo2.csv"
   ]
  },
  {
   "cell_type": "markdown",
   "metadata": {},
   "source": [
    "\n",
    "<h2 id=\"understanding_data\">Understanding the Data</h2>\n",
    "\n",
    "### `FuelConsumption.csv`:\n",
    "We have downloaded a fuel consumption dataset, **`FuelConsumption.csv`**, which contains model-specific fuel consumption ratings and estimated carbon dioxide emissions for new light-duty vehicles for retail sale in Canada. [Dataset source](http://open.canada.ca/data/en/dataset/98f1a129-f628-4ce4-b24d-6f16bf24dd64)\n",
    "\n",
    "- **MODELYEAR** e.g. 2014\n",
    "- **MAKE** e.g. Acura\n",
    "- **MODEL** e.g. ILX\n",
    "- **VEHICLE CLASS** e.g. SUV\n",
    "- **ENGINE SIZE** e.g. 4.7\n",
    "- **CYLINDERS** e.g 6\n",
    "- **TRANSMISSION** e.g. A6\n",
    "- **FUELTYPE** e.g. z\n",
    "- **FUEL CONSUMPTION in CITY(L/100 km)** e.g. 9.9\n",
    "- **FUEL CONSUMPTION in HWY (L/100 km)** e.g. 8.9\n",
    "- **FUEL CONSUMPTION COMB (L/100 km)** e.g. 9.2\n",
    "- **CO2 EMISSIONS (g/km)** e.g. 182   --> low --> 0\n"
   ]
  },
  {
   "cell_type": "markdown",
   "metadata": {},
   "source": [
    "\n",
    "Entendiendo los Datos\n",
    "FuelConsumption.csv:\n",
    "Hemos descargado un conjunto de datos de consumo de combustible, FuelConsumption.csv, que contiene clasificaciones de consumo de combustible específicas del modelo y estimaciones de emisiones de dióxido de carbono para vehículos ligeros nuevos a la venta en Canadá. Fuente del conjunto de datos\n",
    "\n",
    "MODELYEAR (AÑO DEL MODELO) por ejemplo, 2014\n",
    "\n",
    "MAKE (MARCA) por ejemplo, Acura\n",
    "\n",
    "MODEL (MODELO) por ejemplo, ILX\n",
    "\n",
    "VEHICLE CLASS (CLASE DE VEHÍCULO) por ejemplo, SUV\n",
    "\n",
    "ENGINE SIZE (TAMAÑO DEL MOTOR) por ejemplo, 4.7\n",
    "\n",
    "CYLINDERS (CILINDROS) por ejemplo, 6\n",
    "\n",
    "TRANSMISSION (TRANSMISIÓN) por ejemplo, A6\n",
    "\n",
    "FUELTYPE (TIPO DE COMBUSTIBLE) por ejemplo, z\n",
    "\n",
    "FUEL CONSUMPTION in CITY(L/100 km) (CONSUMO DE COMBUSTIBLE EN CIUDAD (L/100 km)) por ejemplo, 9.9\n",
    "\n",
    "FUEL CONSUMPTION in HWY (L/100 km) (CONSUMO DE COMBUSTIBLE EN CARRETERA (L/100 km)) por ejemplo, 8.9\n",
    "\n",
    "FUEL CONSUMPTION COMB (L/100 km) (CONSUMO DE COMBUSTIBLE COMBINADO (L/100 km)) por ejemplo, 9.2\n",
    "\n",
    "CO2 EMISSIONS (g/km) (EMISIONES DE CO2 (g/km)) por ejemplo, 182 --> bajo --> 0\n"
   ]
  },
  {
   "cell_type": "markdown",
   "metadata": {},
   "source": [
    "<h2 id=\"reading_data\">Reading the data in</h2>\n"
   ]
  },
  {
   "cell_type": "code",
   "execution_count": 17,
   "metadata": {
    "tags": []
   },
   "outputs": [
    {
     "data": {
      "text/html": [
       "<div>\n",
       "<style scoped>\n",
       "    .dataframe tbody tr th:only-of-type {\n",
       "        vertical-align: middle;\n",
       "    }\n",
       "\n",
       "    .dataframe tbody tr th {\n",
       "        vertical-align: top;\n",
       "    }\n",
       "\n",
       "    .dataframe thead th {\n",
       "        text-align: right;\n",
       "    }\n",
       "</style>\n",
       "<table border=\"1\" class=\"dataframe\">\n",
       "  <thead>\n",
       "    <tr style=\"text-align: right;\">\n",
       "      <th></th>\n",
       "      <th>MODELYEAR</th>\n",
       "      <th>MAKE</th>\n",
       "      <th>MODEL</th>\n",
       "      <th>VEHICLECLASS</th>\n",
       "      <th>ENGINESIZE</th>\n",
       "      <th>CYLINDERS</th>\n",
       "      <th>TRANSMISSION</th>\n",
       "      <th>FUELTYPE</th>\n",
       "      <th>FUELCONSUMPTION_CITY</th>\n",
       "      <th>FUELCONSUMPTION_HWY</th>\n",
       "      <th>FUELCONSUMPTION_COMB</th>\n",
       "      <th>FUELCONSUMPTION_COMB_MPG</th>\n",
       "      <th>CO2EMISSIONS</th>\n",
       "    </tr>\n",
       "  </thead>\n",
       "  <tbody>\n",
       "    <tr>\n",
       "      <th>0</th>\n",
       "      <td>2014</td>\n",
       "      <td>ACURA</td>\n",
       "      <td>ILX</td>\n",
       "      <td>COMPACT</td>\n",
       "      <td>2.0</td>\n",
       "      <td>4</td>\n",
       "      <td>AS5</td>\n",
       "      <td>Z</td>\n",
       "      <td>9.9</td>\n",
       "      <td>6.7</td>\n",
       "      <td>8.5</td>\n",
       "      <td>33</td>\n",
       "      <td>196</td>\n",
       "    </tr>\n",
       "    <tr>\n",
       "      <th>1</th>\n",
       "      <td>2014</td>\n",
       "      <td>ACURA</td>\n",
       "      <td>ILX</td>\n",
       "      <td>COMPACT</td>\n",
       "      <td>2.4</td>\n",
       "      <td>4</td>\n",
       "      <td>M6</td>\n",
       "      <td>Z</td>\n",
       "      <td>11.2</td>\n",
       "      <td>7.7</td>\n",
       "      <td>9.6</td>\n",
       "      <td>29</td>\n",
       "      <td>221</td>\n",
       "    </tr>\n",
       "    <tr>\n",
       "      <th>2</th>\n",
       "      <td>2014</td>\n",
       "      <td>ACURA</td>\n",
       "      <td>ILX HYBRID</td>\n",
       "      <td>COMPACT</td>\n",
       "      <td>1.5</td>\n",
       "      <td>4</td>\n",
       "      <td>AV7</td>\n",
       "      <td>Z</td>\n",
       "      <td>6.0</td>\n",
       "      <td>5.8</td>\n",
       "      <td>5.9</td>\n",
       "      <td>48</td>\n",
       "      <td>136</td>\n",
       "    </tr>\n",
       "    <tr>\n",
       "      <th>3</th>\n",
       "      <td>2014</td>\n",
       "      <td>ACURA</td>\n",
       "      <td>MDX 4WD</td>\n",
       "      <td>SUV - SMALL</td>\n",
       "      <td>3.5</td>\n",
       "      <td>6</td>\n",
       "      <td>AS6</td>\n",
       "      <td>Z</td>\n",
       "      <td>12.7</td>\n",
       "      <td>9.1</td>\n",
       "      <td>11.1</td>\n",
       "      <td>25</td>\n",
       "      <td>255</td>\n",
       "    </tr>\n",
       "    <tr>\n",
       "      <th>4</th>\n",
       "      <td>2014</td>\n",
       "      <td>ACURA</td>\n",
       "      <td>RDX AWD</td>\n",
       "      <td>SUV - SMALL</td>\n",
       "      <td>3.5</td>\n",
       "      <td>6</td>\n",
       "      <td>AS6</td>\n",
       "      <td>Z</td>\n",
       "      <td>12.1</td>\n",
       "      <td>8.7</td>\n",
       "      <td>10.6</td>\n",
       "      <td>27</td>\n",
       "      <td>244</td>\n",
       "    </tr>\n",
       "  </tbody>\n",
       "</table>\n",
       "</div>"
      ],
      "text/plain": [
       "   MODELYEAR   MAKE       MODEL VEHICLECLASS  ENGINESIZE  CYLINDERS  \\\n",
       "0       2014  ACURA         ILX      COMPACT         2.0          4   \n",
       "1       2014  ACURA         ILX      COMPACT         2.4          4   \n",
       "2       2014  ACURA  ILX HYBRID      COMPACT         1.5          4   \n",
       "3       2014  ACURA     MDX 4WD  SUV - SMALL         3.5          6   \n",
       "4       2014  ACURA     RDX AWD  SUV - SMALL         3.5          6   \n",
       "\n",
       "  TRANSMISSION FUELTYPE  FUELCONSUMPTION_CITY  FUELCONSUMPTION_HWY  \\\n",
       "0          AS5        Z                   9.9                  6.7   \n",
       "1           M6        Z                  11.2                  7.7   \n",
       "2          AV7        Z                   6.0                  5.8   \n",
       "3          AS6        Z                  12.7                  9.1   \n",
       "4          AS6        Z                  12.1                  8.7   \n",
       "\n",
       "   FUELCONSUMPTION_COMB  FUELCONSUMPTION_COMB_MPG  CO2EMISSIONS  \n",
       "0                   8.5                        33           196  \n",
       "1                   9.6                        29           221  \n",
       "2                   5.9                        48           136  \n",
       "3                  11.1                        25           255  \n",
       "4                  10.6                        27           244  "
      ]
     },
     "execution_count": 17,
     "metadata": {},
     "output_type": "execute_result"
    }
   ],
   "source": [
    "# Carga el archivo CSV \"FuelConsumption.csv\" en un DataFrame de pandas\n",
    "df = pd.read_csv(\"FuelConsumption.csv\")\n",
    "\n",
    "# Muestra las primeras 5 filas del DataFrame para tener una vista previa de los datos\n",
    "# Esto es útil para entender la estructura y el contenido inicial del dataset\n",
    "df.head()"
   ]
  },
  {
   "cell_type": "markdown",
   "metadata": {},
   "source": [
    "Let's select some features that we want to use for regression.\n"
   ]
  },
  {
   "cell_type": "code",
   "execution_count": 18,
   "metadata": {
    "tags": []
   },
   "outputs": [
    {
     "data": {
      "text/html": [
       "<div>\n",
       "<style scoped>\n",
       "    .dataframe tbody tr th:only-of-type {\n",
       "        vertical-align: middle;\n",
       "    }\n",
       "\n",
       "    .dataframe tbody tr th {\n",
       "        vertical-align: top;\n",
       "    }\n",
       "\n",
       "    .dataframe thead th {\n",
       "        text-align: right;\n",
       "    }\n",
       "</style>\n",
       "<table border=\"1\" class=\"dataframe\">\n",
       "  <thead>\n",
       "    <tr style=\"text-align: right;\">\n",
       "      <th></th>\n",
       "      <th>ENGINESIZE</th>\n",
       "      <th>CYLINDERS</th>\n",
       "      <th>FUELCONSUMPTION_CITY</th>\n",
       "      <th>FUELCONSUMPTION_HWY</th>\n",
       "      <th>FUELCONSUMPTION_COMB</th>\n",
       "      <th>CO2EMISSIONS</th>\n",
       "    </tr>\n",
       "  </thead>\n",
       "  <tbody>\n",
       "    <tr>\n",
       "      <th>0</th>\n",
       "      <td>2.0</td>\n",
       "      <td>4</td>\n",
       "      <td>9.9</td>\n",
       "      <td>6.7</td>\n",
       "      <td>8.5</td>\n",
       "      <td>196</td>\n",
       "    </tr>\n",
       "    <tr>\n",
       "      <th>1</th>\n",
       "      <td>2.4</td>\n",
       "      <td>4</td>\n",
       "      <td>11.2</td>\n",
       "      <td>7.7</td>\n",
       "      <td>9.6</td>\n",
       "      <td>221</td>\n",
       "    </tr>\n",
       "    <tr>\n",
       "      <th>2</th>\n",
       "      <td>1.5</td>\n",
       "      <td>4</td>\n",
       "      <td>6.0</td>\n",
       "      <td>5.8</td>\n",
       "      <td>5.9</td>\n",
       "      <td>136</td>\n",
       "    </tr>\n",
       "    <tr>\n",
       "      <th>3</th>\n",
       "      <td>3.5</td>\n",
       "      <td>6</td>\n",
       "      <td>12.7</td>\n",
       "      <td>9.1</td>\n",
       "      <td>11.1</td>\n",
       "      <td>255</td>\n",
       "    </tr>\n",
       "    <tr>\n",
       "      <th>4</th>\n",
       "      <td>3.5</td>\n",
       "      <td>6</td>\n",
       "      <td>12.1</td>\n",
       "      <td>8.7</td>\n",
       "      <td>10.6</td>\n",
       "      <td>244</td>\n",
       "    </tr>\n",
       "    <tr>\n",
       "      <th>5</th>\n",
       "      <td>3.5</td>\n",
       "      <td>6</td>\n",
       "      <td>11.9</td>\n",
       "      <td>7.7</td>\n",
       "      <td>10.0</td>\n",
       "      <td>230</td>\n",
       "    </tr>\n",
       "    <tr>\n",
       "      <th>6</th>\n",
       "      <td>3.5</td>\n",
       "      <td>6</td>\n",
       "      <td>11.8</td>\n",
       "      <td>8.1</td>\n",
       "      <td>10.1</td>\n",
       "      <td>232</td>\n",
       "    </tr>\n",
       "    <tr>\n",
       "      <th>7</th>\n",
       "      <td>3.7</td>\n",
       "      <td>6</td>\n",
       "      <td>12.8</td>\n",
       "      <td>9.0</td>\n",
       "      <td>11.1</td>\n",
       "      <td>255</td>\n",
       "    </tr>\n",
       "    <tr>\n",
       "      <th>8</th>\n",
       "      <td>3.7</td>\n",
       "      <td>6</td>\n",
       "      <td>13.4</td>\n",
       "      <td>9.5</td>\n",
       "      <td>11.6</td>\n",
       "      <td>267</td>\n",
       "    </tr>\n",
       "  </tbody>\n",
       "</table>\n",
       "</div>"
      ],
      "text/plain": [
       "   ENGINESIZE  CYLINDERS  FUELCONSUMPTION_CITY  FUELCONSUMPTION_HWY  \\\n",
       "0         2.0          4                   9.9                  6.7   \n",
       "1         2.4          4                  11.2                  7.7   \n",
       "2         1.5          4                   6.0                  5.8   \n",
       "3         3.5          6                  12.7                  9.1   \n",
       "4         3.5          6                  12.1                  8.7   \n",
       "5         3.5          6                  11.9                  7.7   \n",
       "6         3.5          6                  11.8                  8.1   \n",
       "7         3.7          6                  12.8                  9.0   \n",
       "8         3.7          6                  13.4                  9.5   \n",
       "\n",
       "   FUELCONSUMPTION_COMB  CO2EMISSIONS  \n",
       "0                   8.5           196  \n",
       "1                   9.6           221  \n",
       "2                   5.9           136  \n",
       "3                  11.1           255  \n",
       "4                  10.6           244  \n",
       "5                  10.0           230  \n",
       "6                  10.1           232  \n",
       "7                  11.1           255  \n",
       "8                  11.6           267  "
      ]
     },
     "execution_count": 18,
     "metadata": {},
     "output_type": "execute_result"
    }
   ],
   "source": [
    "# Selecciona un subconjunto de columnas del DataFrame original 'df'\n",
    "# Se crea un nuevo DataFrame llamado 'cdf' que contiene solo las columnas relevantes\n",
    "# para el análisis de consumo de combustible y emisiones de CO2.\n",
    "cdf = df[['ENGINESIZE','CYLINDERS','FUELCONSUMPTION_CITY','FUELCONSUMPTION_HWY','FUELCONSUMPTION_COMB','CO2EMISSIONS']]\n",
    "\n",
    "# Muestra las primeras 9 filas del nuevo DataFrame 'cdf'\n",
    "# Esto permite ver los datos específicos que se han seleccionado y su formato inicial.\n",
    "cdf.head(9)"
   ]
  },
  {
   "cell_type": "markdown",
   "metadata": {},
   "source": [
    "Let's plot Emission values with respect to Engine size:\n"
   ]
  },
  {
   "cell_type": "code",
   "execution_count": 19,
   "metadata": {
    "tags": []
   },
   "outputs": [
    {
     "data": {
      "image/png": "[encoded data removed]",
      "text/plain": [
       "<Figure size 640x480 with 1 Axes>"
      ]
     },
     "metadata": {},
     "output_type": "display_data"
    }
   ],
   "source": [
    "# Crea un gráfico de dispersión (scatter plot)\n",
    "# Los puntos se trazan con 'ENGINESIZE' en el eje X y 'CO2EMISSIONS' en el eje Y.\n",
    "# Los puntos se mostrarán en color azul.\n",
    "plt.scatter(cdf.ENGINESIZE, cdf.CO2EMISSIONS, color='blue')\n",
    "\n",
    "# Establece la etiqueta del eje X (horizontal) como \"Engine size\" (Tamaño del motor).\n",
    "plt.xlabel(\"Engine size\")\n",
    "\n",
    "# Establece la etiqueta del eje Y (vertical) como \"Emission\" (Emisión).\n",
    "plt.ylabel(\"Emission\")\n",
    "\n",
    "# Muestra el gráfico generado.\n",
    "plt.show()"
   ]
  },
  {
   "cell_type": "markdown",
   "metadata": {},
   "source": [
    "#### Creating train and test dataset\n",
    "Train/Test Split involves splitting the dataset into training and testing sets respectively, which are mutually exclusive. After which, you train with the training set and test with the testing set. \n",
    "This will provide a more accurate evaluation on out-of-sample accuracy because the testing dataset is not part of the dataset that have been used to train the model. Therefore, it gives us a better understanding of how well our model generalizes on new data.\n",
    "\n",
    "We know the outcome of each data point in the testing dataset, making it great to test with! Since this data has not been used to train the model, the model has no knowledge of the outcome of these data points. So, in essence, it is truly an out-of-sample testing.\n",
    "\n",
    "Let's split our dataset into train and test sets. Around 80% of the entire dataset will be used for training and 20% for testing. We create a mask to select random rows using the  __np.random.rand()__ function: \n"
   ]
  },
  {
   "cell_type": "markdown",
   "metadata": {},
   "source": [
    "Creación de conjuntos de datos de entrenamiento y prueba\n",
    "\n",
    "La división en conjunto de entrenamiento y prueba (Train/Test Split) implica dividir el conjunto de datos en conjuntos de entrenamiento y prueba respectivamente, los cuales son mutuamente excluyentes. Después, se entrena con el conjunto de entrenamiento y se prueba con el conjunto de prueba. Esto proporcionará una evaluación más precisa de la exactitud \"fuera de muestra\" (out-of-sample accuracy), ya que el conjunto de datos de prueba no forma parte del conjunto de datos que se ha utilizado para entrenar el modelo. Por lo tanto, nos da una mejor comprensión de qué tan bien nuestro modelo generaliza con datos nuevos.\n",
    "\n",
    "Conocemos el resultado de cada punto de datos en el conjunto de datos de prueba, ¡lo que lo hace ideal para probar! Dado que estos datos no se han utilizado para entrenar el modelo, el modelo no tiene conocimiento del resultado de estos puntos de datos. Así que, en esencia, es verdaderamente una prueba fuera de muestra.\n",
    "\n",
    "Dividamos nuestro conjunto de datos en conjuntos de entrenamiento y prueba. Alrededor del 80% del conjunto de datos completo se utilizará para el entrenamiento y el 20% para la prueba. Creamos una máscara para seleccionar filas aleatorias utilizando la función np.random.rand():"
   ]
  },
  {
   "cell_type": "code",
   "execution_count": 20,
   "metadata": {
    "tags": []
   },
   "outputs": [],
   "source": [
    "# Genera una máscara booleana aleatoria.\n",
    "# 'np.random.rand(len(df))' crea un array de números aleatorios uniformemente distribuidos entre 0 y 1,\n",
    "# con la misma longitud que el número de filas en el DataFrame original 'df'.\n",
    "# Al comparar cada número con 0.8, se crea un array de valores True/False.\n",
    "# Aproximadamente el 80% de los valores serán True (números < 0.8) y el 20% serán False (números >= 0.8).\n",
    "msk = np.random.rand(len(df)) < 0.8\n",
    "\n",
    "# Crea el conjunto de datos de entrenamiento (train).\n",
    "# Selecciona las filas del DataFrame 'cdf' donde la máscara 'msk' es True.\n",
    "# Esto significa que el conjunto de entrenamiento contendrá aproximadamente el 80% de los datos.\n",
    "train = cdf[msk]\n",
    "\n",
    "# Crea el conjunto de datos de prueba (test).\n",
    "# Selecciona las filas del DataFrame 'cdf' donde la máscara 'msk' es False (negación de msk, ~msk).\n",
    "# Esto significa que el conjunto de prueba contendrá aproximadamente el 20% restante de los datos.\n",
    "test = cdf[~msk]"
   ]
  },
  {
   "cell_type": "markdown",
   "metadata": {},
   "source": [
    "#### Train data distribution\n"
   ]
  },
  {
   "cell_type": "code",
   "execution_count": 21,
   "metadata": {
    "tags": []
   },
   "outputs": [
    {
     "data": {
      "image/png": "[encoded data removed]",
      "text/plain": [
       "<Figure size 640x480 with 1 Axes>"
      ]
     },
     "metadata": {},
     "output_type": "display_data"
    }
   ],
   "source": [
    "# Crea un gráfico de dispersión (scatter plot) utilizando los datos del conjunto de entrenamiento.\n",
    "# Los puntos se trazan con 'ENGINESIZE' del conjunto de entrenamiento en el eje X\n",
    "# y 'CO2EMISSIONS' del conjunto de entrenamiento en el eje Y.\n",
    "# Los puntos se mostrarán en color azul.\n",
    "plt.scatter(train.ENGINESIZE, train.CO2EMISSIONS,  color='blue')\n",
    "\n",
    "# Establece la etiqueta del eje X (horizontal) del gráfico como \"Engine size\" (Tamaño del motor).\n",
    "plt.xlabel(\"Engine size\")\n",
    "\n",
    "# Establece la etiqueta del eje Y (vertical) del gráfico como \"Emission\" (Emisión).\n",
    "plt.ylabel(\"Emission\")\n",
    "\n",
    "# Muestra el gráfico generado en la pantalla.\n",
    "plt.show()"
   ]
  },
  {
   "cell_type": "markdown",
   "metadata": {},
   "source": [
    "<h2 id=\"multiple_regression_model\">Multiple Regression Model</h2>\n"
   ]
  },
  {
   "cell_type": "markdown",
   "metadata": {},
   "source": [
    "In reality, there are multiple variables that impact the co2emission. When more than one independent variable is present, the process is called multiple linear regression. An example of multiple linear regression is predicting co2emission using the features FUELCONSUMPTION_COMB, EngineSize and Cylinders of cars. The good thing here is that multiple linear regression model is the extension of the simple linear regression model."
   ]
  },
  {
   "cell_type": "markdown",
   "metadata": {},
   "source": [
    "\n",
    "En realidad, hay múltiples variables que impactan la emisión de CO2. Cuando hay presente más de una variable independiente, el proceso se denomina regresión lineal múltiple. Un ejemplo de regresión lineal múltiple es predecir la emisión de CO2 utilizando las características FUELCONSUMPTION_COMB (Consumo de Combustible Combinado), EngineSize (Tamaño del Motor) y Cylinders (Cilindros) de los coches. Lo bueno aquí es que el modelo de regresión lineal múltiple es la extensión del modelo de regresión lineal simple."
   ]
  },
  {
   "cell_type": "code",
   "execution_count": 22,
   "metadata": {
    "tags": []
   },
   "outputs": [
    {
     "name": "stdout",
     "output_type": "stream",
     "text": [
      "Coefficients:  [[10.10213585  7.79918124  9.7660547 ]]\n"
     ]
    }
   ],
   "source": [
    "# Importa el módulo 'linear_model' de la librería scikit-learn, que contiene modelos lineales.\n",
    "from sklearn import linear_model\n",
    "\n",
    "# Crea una instancia del modelo de Regresión Lineal.\n",
    "# 'regr' es ahora un objeto que representa nuestro modelo de regresión lineal.\n",
    "regr = linear_model.LinearRegression()\n",
    "\n",
    "# Prepara los datos de las características (variables independientes) para el entrenamiento.\n",
    "# Convierte las columnas 'ENGINESIZE', 'CYLINDERS' y 'FUELCONSUMPTION_COMB' del conjunto 'train'\n",
    "# a un array de NumPy. Estas serán nuestras 'x' (variables de entrada) para el modelo.\n",
    "x = np.asanyarray(train[['ENGINESIZE','CYLINDERS','FUELCONSUMPTION_COMB']])\n",
    "\n",
    "# Prepara los datos de la variable objetivo (variable dependiente) para el entrenamiento.\n",
    "# Convierte la columna 'CO2EMISSIONS' del conjunto 'train' a un array de NumPy.\n",
    "# Esta será nuestra 'y' (variable de salida o objetivo) para el modelo.\n",
    "y = np.asanyarray(train[['CO2EMISSIONS']])\n",
    "\n",
    "# Entrena el modelo de regresión lineal.\n",
    "# El método 'fit' calcula los coeficientes (pesos) y el intercepto de la ecuación lineal\n",
    "# que mejor se ajusta a los datos de entrenamiento (x, y).\n",
    "regr.fit (x, y)\n",
    "\n",
    "# Imprime los coeficientes calculados por el modelo.\n",
    "# 'regr.coef_' contiene los coeficientes para cada una de las variables de entrada\n",
    "# (ENGINESIZE, CYLINDERS, FUELCONSUMPTION_COMB, en ese orden).\n",
    "print ('Coefficients: ', regr.coef_)"
   ]
  },
  {
   "cell_type": "markdown",
   "metadata": {},
   "source": [
    "As mentioned before, __Coefficient__ and __Intercept__  are the parameters of the fitted line. \n",
    "Given that it is a multiple linear regression model with 3 parameters and that the parameters are the intercept and coefficients of the hyperplane, sklearn can estimate them from our data. Scikit-learn uses plain Ordinary Least Squares method to solve this problem.\n",
    "\n",
    "#### Ordinary Least Squares (OLS)\n",
    "OLS is a method for estimating the unknown parameters in a linear regression model. OLS chooses the parameters of a linear function of a set of explanatory variables by minimizing the sum of the squares of the differences between the target dependent variable and those predicted by the linear function. In other words, it tries to minimizes the sum of squared errors (SSE) or mean squared error (MSE) between the target variable (y) and our predicted output ($\\hat{y}$) over all samples in the dataset.\n",
    "\n",
    "OLS can find the best parameters using of the following methods:\n",
    "* Solving the model parameters analytically using closed-form equations\n",
    "* Using an optimization algorithm (Gradient Descent, Stochastic Gradient Descent, Newton’s Method, etc.)\n"
   ]
  },
  {
   "cell_type": "markdown",
   "metadata": {},
   "source": [
    "Como se mencionó antes, __el Coeficiente__ y __la Intercepción (o intercepto)__ son los parámetros de la línea ajustada.\n",
    "\n",
    "Dado que es un modelo de regresión lineal múltiple con 3 parámetros y que los parámetros son la intercepción y los coeficientes del hiperplano, scikit-learn puede estimarlos a partir de nuestros datos. Scikit-learn utiliza el método de Mínimos Cuadrados Ordinarios (OLS) para resolver este problema.\n",
    "\n",
    "#### Mínimos Cuadrados Ordinarios (OLS)\n",
    "OLS es un método para estimar los parámetros desconocidos en un modelo de regresión lineal. OLS elige los parámetros de una función lineal de un conjunto de variables explicativas minimizando la suma de los cuadrados de las diferencias entre la variable dependiente objetivo y aquellas predichas por la función lineal. En otras palabras, intenta minimizar la suma de los errores al cuadrado (SSE) o el error cuadrático medio (MSE) entre la variable objetivo (y) y nuestra salida predicha ( \n",
    "y\n",
    "^\n",
    "​\n",
    " ) sobre todas las muestras en el conjunto de datos.\n",
    "\n",
    "OLS puede encontrar los mejores parámetros utilizando uno de los siguientes métodos:\n",
    "\n",
    "Resolviendo los parámetros del modelo analíticamente usando ecuaciones de forma cerrada.\n",
    "\n",
    "Usando un algoritmo de optimización (Descenso de Gradiente, Descenso de Gradiente Estocástico, Método de Newton, etc.).\n"
   ]
  },
  {
   "cell_type": "markdown",
   "metadata": {},
   "source": [
    "<h2 id=\"prediction\">Prediction</h2>\n"
   ]
  },
  {
   "cell_type": "code",
   "execution_count": 25,
   "metadata": {
    "tags": []
   },
   "outputs": [
    {
     "name": "stdout",
     "output_type": "stream",
     "text": [
      "Mean Squared Error (MSE) : 484.19\n",
      "Variance score: 0.87\n"
     ]
    },
    {
     "name": "stderr",
     "output_type": "stream",
     "text": [
      "/home/death/Documents/pythonIBM/proyectos2/.venv2/lib/python3.11/site-packages/sklearn/utils/validation.py:2742: UserWarning: X has feature names, but LinearRegression was fitted without feature names\n",
      "  warnings.warn(\n"
     ]
    }
   ],
   "source": [
    "# Realiza predicciones sobre el conjunto de datos de prueba.\n",
    "# Utiliza el modelo 'regr' (que ya ha sido entrenado) para predecir las emisiones de CO2\n",
    "# basándose en las columnas 'ENGINESIZE', 'CYLINDERS' y 'FUELCONSUMPTION_COMB' del conjunto 'test'.\n",
    "# Las predicciones se almacenan en 'y_hat'.\n",
    "y_hat= regr.predict(test[['ENGINESIZE','CYLINDERS','FUELCONSUMPTION_COMB']])\n",
    "\n",
    "# Prepara las características (variables independientes) del conjunto de prueba.\n",
    "# Convierte las columnas seleccionadas del conjunto 'test' a un array de NumPy.\n",
    "# Esto es para asegurar que tienen el formato correcto para las siguientes operaciones de evaluación.\n",
    "x = np.asanyarray(test[['ENGINESIZE','CYLINDERS','FUELCONSUMPTION_COMB']])\n",
    "\n",
    "# Prepara la variable objetivo (variable dependiente real) del conjunto de prueba.\n",
    "# Convierte la columna 'CO2EMISSIONS' del conjunto 'test' a un array de NumPy.\n",
    "# Estos son los valores reales que queremos comparar con nuestras predicciones.\n",
    "y = np.asanyarray(test[['CO2EMISSIONS']])\n",
    "\n",
    "\n",
    "# Calcula y imprime el Error Cuadrático Medio (MSE - Mean Squared Error).\n",
    "# El MSE mide el promedio de los cuadrados de los errores, es decir, la diferencia\n",
    "# cuadrada promedio entre los valores predichos (y_hat) y los valores reales (y).\n",
    "# Un valor más bajo indica un mejor ajuste del modelo. El '%.2f' formatea el resultado a dos decimales.\n",
    "print(\"Mean Squared Error (MSE) : %.2f\"\n",
    "      % np.mean((y_hat - y) ** 2))\n",
    "\n",
    "# Calcula y imprime el \"Explained Variance Score\" (Puntuación de Varianza Explicada).\n",
    "# Esta métrica (también conocida como R^2 score en algunos contextos) indica la proporción de la varianza\n",
    "# en la variable dependiente que es predecible a partir de las variables independientes.\n",
    "# Una puntuación de 1.0 (o cercana a 1) indica una predicción perfecta del modelo.\n",
    "# Un valor de 0.0 indica que el modelo no explica la variabilidad de la variable objetivo.\n",
    "print('Variance score: %.2f' % regr.score(x, y))\n",
    " "
   ]
  },
  {
   "cell_type": "code",
   "execution_count": 26,
   "metadata": {
    "tags": []
   },
   "outputs": [],
   "source": [
    " # warnings.warn(\n",
    "# Explicación del mensaje y por qué lo ves en rojo:\n",
    "\n",
    "# UserWarning:: Esto indica que no es un \"Error\" que impida que el código se ejecute, sino una advertencia al usuario sobre algo que podría ser relevante o que el software considera una \"práctica no óptima\" en ese contexto.\n",
    "\n",
    "# X has feature names, but LinearRegression was fitted without feature names: Este es el corazón de la advertencia. Significa que:\n",
    "# Tus datos de entrada X (que son test[['ENGINESIZE','CYLINDERS','FUELCONSUMPTION_COMB']] o test[['ENGINESIZE','CYLINDERS','FUELCONSUMPTION_CITY','FUELCONSUMPTION_HWY']]) son un DataFrame de pandas. Los DataFrames tienen \"nombres de características\" o \"nombres de columnas\" (como 'ENGINESIZE', 'CYLINDERS', etc.).\n",
    "\n",
    "# Cuando entrenaste el modelo regr.fit(x, y), x también era un array de NumPy que, al provenir de un DataFrame, conservaba internamente la información de los nombres de las columnas, incluso si se convertía a np.asanyarray.\n",
    "\n",
    "# Sin embargo, el método LinearRegression de scikit-learn fue \"ajustado\" (fitted) de una manera que no utilizó explícitamente esos nombres de características durante el proceso de ajuste.\n",
    "# ¿Por qué lo ves en rojo y no en un entorno de \"nube\"?\n",
    "# En tu entorno local (Jupyter Notebook / IPython): Cuando ejecutas código Python que genera advertencias, muchas herramientas de desarrollo, incluido Jupyter Notebook y entornos IPython, están configuradas para resaltar las advertencias. A menudo, las muestran en texto de color rojo o naranja para que sean más visibles y no pasen desapercibidas. Esto es una característica útil para depuración.\n",
    "\n",
    "# En un entorno de \"nube\" (por ejemplo, Coursera, IBM Cloud, Google Colab): Es posible que la configuración predeterminada del entorno específico que usas en la nube sea diferente. Algunos entornos pueden suprimir ciertas advertencias o mostrarlas de una manera menos prominente (por ejemplo, en texto normal o en un log separado, o simplemente no mostrarlas en absoluto en la salida principal para simplificar la interfaz). No significa que la advertencia no exista, sino que la forma en que se presenta al usuario es diferente.\n",
    "# ¿Es esto un problema?\n",
    "# Generalmente, para el tipo de análisis que estás haciendo (regresión lineal), esta advertencia no es crítica y no afectará la precisión o el funcionamiento de tu modelo. El modelo sigue funcionando correctamente y calcula los coeficientes y las métricas de evaluación de manera adecuada.\n",
    "# Scikit-learn emite esta advertencia para informarte que si en el futuro usas predict o transform con un DataFrame que tiene diferentes nombres de columnas o un orden diferente, esto podría generar un comportamiento inesperado si el modelo dependiera de esos nombres, aunque en el caso de LinearRegression y np.asanyarray no suele ser un problema práctico. Es más una buena práctica de programación que una falla funcional.\n",
    "# Puedes ignorar esta advertencia con seguridad para este caso particular, o si te molesta, puedes suprimir las advertencias globalmente (aunque no es lo más recomendado si no entiendes bien el porqué de cada advertencia)."
   ]
  },
  {
   "cell_type": "code",
   "execution_count": 27,
   "metadata": {
    "tags": []
   },
   "outputs": [
    {
     "data": {
      "text/html": [
       "<div>\n",
       "<style scoped>\n",
       "    .dataframe tbody tr th:only-of-type {\n",
       "        vertical-align: middle;\n",
       "    }\n",
       "\n",
       "    .dataframe tbody tr th {\n",
       "        vertical-align: top;\n",
       "    }\n",
       "\n",
       "    .dataframe thead th {\n",
       "        text-align: right;\n",
       "    }\n",
       "</style>\n",
       "<table border=\"1\" class=\"dataframe\">\n",
       "  <thead>\n",
       "    <tr style=\"text-align: right;\">\n",
       "      <th></th>\n",
       "      <th>MODELYEAR</th>\n",
       "      <th>MAKE</th>\n",
       "      <th>MODEL</th>\n",
       "      <th>VEHICLECLASS</th>\n",
       "      <th>ENGINESIZE</th>\n",
       "      <th>CYLINDERS</th>\n",
       "      <th>TRANSMISSION</th>\n",
       "      <th>FUELTYPE</th>\n",
       "      <th>FUELCONSUMPTION_CITY</th>\n",
       "      <th>FUELCONSUMPTION_HWY</th>\n",
       "      <th>FUELCONSUMPTION_COMB</th>\n",
       "      <th>FUELCONSUMPTION_COMB_MPG</th>\n",
       "      <th>CO2EMISSIONS</th>\n",
       "    </tr>\n",
       "  </thead>\n",
       "  <tbody>\n",
       "    <tr>\n",
       "      <th>0</th>\n",
       "      <td>2014</td>\n",
       "      <td>ACURA</td>\n",
       "      <td>ILX</td>\n",
       "      <td>COMPACT</td>\n",
       "      <td>2.0</td>\n",
       "      <td>4</td>\n",
       "      <td>AS5</td>\n",
       "      <td>Z</td>\n",
       "      <td>9.9</td>\n",
       "      <td>6.7</td>\n",
       "      <td>8.5</td>\n",
       "      <td>33</td>\n",
       "      <td>196</td>\n",
       "    </tr>\n",
       "    <tr>\n",
       "      <th>1</th>\n",
       "      <td>2014</td>\n",
       "      <td>ACURA</td>\n",
       "      <td>ILX</td>\n",
       "      <td>COMPACT</td>\n",
       "      <td>2.4</td>\n",
       "      <td>4</td>\n",
       "      <td>M6</td>\n",
       "      <td>Z</td>\n",
       "      <td>11.2</td>\n",
       "      <td>7.7</td>\n",
       "      <td>9.6</td>\n",
       "      <td>29</td>\n",
       "      <td>221</td>\n",
       "    </tr>\n",
       "    <tr>\n",
       "      <th>2</th>\n",
       "      <td>2014</td>\n",
       "      <td>ACURA</td>\n",
       "      <td>ILX HYBRID</td>\n",
       "      <td>COMPACT</td>\n",
       "      <td>1.5</td>\n",
       "      <td>4</td>\n",
       "      <td>AV7</td>\n",
       "      <td>Z</td>\n",
       "      <td>6.0</td>\n",
       "      <td>5.8</td>\n",
       "      <td>5.9</td>\n",
       "      <td>48</td>\n",
       "      <td>136</td>\n",
       "    </tr>\n",
       "    <tr>\n",
       "      <th>3</th>\n",
       "      <td>2014</td>\n",
       "      <td>ACURA</td>\n",
       "      <td>MDX 4WD</td>\n",
       "      <td>SUV - SMALL</td>\n",
       "      <td>3.5</td>\n",
       "      <td>6</td>\n",
       "      <td>AS6</td>\n",
       "      <td>Z</td>\n",
       "      <td>12.7</td>\n",
       "      <td>9.1</td>\n",
       "      <td>11.1</td>\n",
       "      <td>25</td>\n",
       "      <td>255</td>\n",
       "    </tr>\n",
       "    <tr>\n",
       "      <th>4</th>\n",
       "      <td>2014</td>\n",
       "      <td>ACURA</td>\n",
       "      <td>RDX AWD</td>\n",
       "      <td>SUV - SMALL</td>\n",
       "      <td>3.5</td>\n",
       "      <td>6</td>\n",
       "      <td>AS6</td>\n",
       "      <td>Z</td>\n",
       "      <td>12.1</td>\n",
       "      <td>8.7</td>\n",
       "      <td>10.6</td>\n",
       "      <td>27</td>\n",
       "      <td>244</td>\n",
       "    </tr>\n",
       "  </tbody>\n",
       "</table>\n",
       "</div>"
      ],
      "text/plain": [
       "   MODELYEAR   MAKE       MODEL VEHICLECLASS  ENGINESIZE  CYLINDERS  \\\n",
       "0       2014  ACURA         ILX      COMPACT         2.0          4   \n",
       "1       2014  ACURA         ILX      COMPACT         2.4          4   \n",
       "2       2014  ACURA  ILX HYBRID      COMPACT         1.5          4   \n",
       "3       2014  ACURA     MDX 4WD  SUV - SMALL         3.5          6   \n",
       "4       2014  ACURA     RDX AWD  SUV - SMALL         3.5          6   \n",
       "\n",
       "  TRANSMISSION FUELTYPE  FUELCONSUMPTION_CITY  FUELCONSUMPTION_HWY  \\\n",
       "0          AS5        Z                   9.9                  6.7   \n",
       "1           M6        Z                  11.2                  7.7   \n",
       "2          AV7        Z                   6.0                  5.8   \n",
       "3          AS6        Z                  12.7                  9.1   \n",
       "4          AS6        Z                  12.1                  8.7   \n",
       "\n",
       "   FUELCONSUMPTION_COMB  FUELCONSUMPTION_COMB_MPG  CO2EMISSIONS  \n",
       "0                   8.5                        33           196  \n",
       "1                   9.6                        29           221  \n",
       "2                   5.9                        48           136  \n",
       "3                  11.1                        25           255  \n",
       "4                  10.6                        27           244  "
      ]
     },
     "execution_count": 27,
     "metadata": {},
     "output_type": "execute_result"
    }
   ],
   "source": [
    "# Carga el archivo CSV llamado \"FuelConsumption.csv\" en un objeto DataFrame de la librería pandas.\n",
    "# Un DataFrame es una estructura de datos tabular con filas y columnas, similar a una hoja de cálculo.\n",
    "df = pd.read_csv(\"FuelConsumption.csv\")\n",
    "\n",
    "# Muestra las primeras 5 filas del DataFrame 'df'.\n",
    "# Esto es útil para obtener una vista rápida de la estructura del dataset, los nombres de las columnas\n",
    "# y los tipos de datos que contiene, ayudando a verificar que se cargó correctamente.\n",
    "df.head()"
   ]
  },
  {
   "cell_type": "markdown",
   "metadata": {},
   "source": [
    "__Explained variance regression score:__  \n",
    "Let $\\hat{y}$ be the estimated target output, y the corresponding (correct) target output, and Var be the Variance (the square of the standard deviation). Then the explained variance is estimated as follows:\n",
    "\n",
    "$\\texttt{explainedVariance}(y, \\hat{y}) = 1 - \\frac{Var\\{ y - \\hat{y}\\}}{Var\\{y\\}}$  \n",
    "The best possible score is 1.0, the lower values are worse.\n"
   ]
  },
  {
   "cell_type": "markdown",
   "metadata": {},
   "source": [
    "\n",
    "\n",
    "Puntuación de Regresión de Varianza Explicada:\n",
    "\n",
    "Sea  $\\hat{y}$ la salida objetivo estimada, y la salida objetivo correspondiente (correcta), y Var la Varianza (el cuadrado de la desviación estándar). Entonces, la varianza explicada se estima de la siguiente manera:\n",
    "\n",
    "$\\texttt{explainedVariance}(y, \\hat{y}) = 1 - \\frac{Var\\{ y - \\hat{y}\\}}{Var\\{y\\}}$  \n",
    "La mejor puntuación posible es 1.0; los valores más bajos son peores."
   ]
  },
  {
   "cell_type": "markdown",
   "metadata": {},
   "source": [
    "<h2 id=\"practice\">Practice</h2>\n",
    "Try to use a multiple linear regression with the same dataset, but this time use FUELCONSUMPTION_CITY and FUELCONSUMPTION_HWY instead of FUELCONSUMPTION_COMB. Does it result in better accuracy?\n"
   ]
  },
  {
   "cell_type": "markdown",
   "metadata": {},
   "source": [
    "Intenta usar una regresión lineal múltiple con el mismo conjunto de datos, pero esta vez usa FUELCONSUMPTION_CITY y FUELCONSUMPTION_HWY en lugar de FUELCONSUMPTION_COMB. ¿Resulta en una mejor precisión (exactitud)?"
   ]
  },
  {
   "cell_type": "code",
   "execution_count": null,
   "metadata": {},
   "outputs": [],
   "source": [
    "# Crea una nueva instancia del modelo de Regresión Lineal.\n",
    "# Esto asegura que estamos empezando con un modelo \"limpio\" para el nuevo conjunto de características.\n",
    "regr = linear_model.LinearRegression()\n",
    "\n",
    "# Prepara las variables independientes (características) para el entrenamiento.\n",
    "# Esta vez, se incluyen 'ENGINESIZE', 'CYLINDERS', 'FUELCONSUMPTION_CITY' y 'FUELCONSUMPTION_HWY'\n",
    "# del conjunto de entrenamiento.\n",
    "x = np.asanyarray(train[['ENGINESIZE','CYLINDERS','FUELCONSUMPTION_CITY','FUELCONSUMPTION_HWY']])\n",
    "\n",
    "# Prepara la variable dependiente (objetivo) para el entrenamiento.\n",
    "# Sigue siendo 'CO2EMISSIONS' del conjunto de entrenamiento.\n",
    "y = np.asanyarray(train[['CO2EMISSIONS']])\n",
    "\n",
    "# Entrena el modelo de regresión lineal con las nuevas características de entrada (x) y la variable objetivo (y).\n",
    "# El modelo aprende los coeficientes que mejor ajustan la relación entre estas variables.\n",
    "regr.fit (x, y)\n",
    "\n",
    "# Imprime los coeficientes calculados por el modelo después del entrenamiento.\n",
    "# Estos coeficientes indican la contribución de cada característica a la predicción de CO2EMISSIONS.\n",
    "print ('Coefficients: ', regr.coef_)\n",
    "\n",
    "# Realiza predicciones sobre el conjunto de prueba utilizando las mismas características que se usaron para entrenar.\n",
    "# 'y_' contendrá las emisiones de CO2 predichas por el modelo.\n",
    "y_ = regr.predict(test[['ENGINESIZE','CYLINDERS','FUELCONSUMPTION_CITY','FUELCONSUMPTION_HWY']])\n",
    "\n",
    "# Prepara las variables independientes (características) del conjunto de prueba.\n",
    "# Esto es necesario para la evaluación posterior del rendimiento del modelo.\n",
    "x = np.asanyarray(test[['ENGINESIZE','CYLINDERS','FUELCONSUMPTION_CITY','FUELCONSUMPTION_HWY']])\n",
    "\n",
    "# Prepara la variable dependiente (objetivo real) del conjunto de prueba.\n",
    "# Estos son los valores reales de CO2EMISSIONS que el modelo intentó predecir.\n",
    "y = np.asanyarray(test[['CO2EMISSIONS']])\n",
    "\n",
    "# Calcula e imprime la Suma de Cuadrados Residuales (Residual Sum of Squares - RSS),\n",
    "# que es el mismo que el Error Cuadrático Medio (MSE) en este contexto.\n",
    "# Mide la diferencia cuadrática promedio entre los valores predichos (y_) y los valores reales (y).\n",
    "# Un valor más bajo indica un mejor ajuste del modelo.\n",
    "print(\"Residual sum of squares: %.2f\"% np.mean((y_ - y) ** 2))\n",
    "\n",
    "# Calcula y imprime la puntuación de Varianza Explicada (Explained Variance Score, también R^2).\n",
    "# Este valor indica qué proporción de la variabilidad en las emisiones de CO2 es explicada por el modelo.\n",
    "# Una puntuación de 1.0 es una predicción perfecta.\n",
    "print('Variance score: %.2f' % regr.score(x, y))\n"
   ]
  },
  {
   "cell_type": "markdown",
   "metadata": {},
   "source": [
    "<details><summary>Click here for the solution</summary>\n",
    "\n",
    "```python\n",
    "regr = linear_model.LinearRegression()\n",
    "x = np.asanyarray(train[['ENGINESIZE','CYLINDERS','FUELCONSUMPTION_CITY','FUELCONSUMPTION_HWY']])\n",
    "y = np.asanyarray(train[['CO2EMISSIONS']])\n",
    "regr.fit (x, y)\n",
    "print ('Coefficients: ', regr.coef_)\n",
    "y_= regr.predict(test[['ENGINESIZE','CYLINDERS','FUELCONSUMPTION_CITY','FUELCONSUMPTION_HWY']])\n",
    "x = np.asanyarray(test[['ENGINESIZE','CYLINDERS','FUELCONSUMPTION_CITY','FUELCONSUMPTION_HWY']])\n",
    "y = np.asanyarray(test[['CO2EMISSIONS']])\n",
    "print(\"Residual sum of squares: %.2f\"% np.mean((y_ - y) ** 2))\n",
    "print('Variance score: %.2f' % regr.score(x, y))\n",
    "\n",
    "```\n",
    "\n",
    "</details>\n"
   ]
  },
  {
   "cell_type": "markdown",
   "metadata": {},
   "source": [
    "### Thank you for completing this lab!\n",
    "\n",
    "\n",
    "## Author\n",
    "\n",
    "Saeed Aghabozorgi\n",
    "\n",
    "\n",
    "### Other Contributors\n",
    "\n",
    "<a href=\"https://www.linkedin.com/in/joseph-s-50398b136/\" target=\"_blank\">Joseph Santarcangelo</a>\n",
    "\n",
    "## <h3 align=\"center\"> © IBM Corporation 2020. All rights reserved. <h3/>\n",
    "    \n",
    "<!--\n",
    "\n",
    "## Change Log\n",
    "\n",
    "\n",
    "|  Date (YYYY-MM-DD) |  Version | Changed By  |  Change Description |\n",
    "|---|---|---|---|\n",
    "| 2020-11-03  | 2.1  | Lakshmi  | Made changes in URL |\n",
    "| 2020-08-27  | 2.0  | Lavanya  |  Moved lab to course repo in GitLab |\n",
    "|   |   |   |   |\n",
    "|   |   |   |   |\n",
    "\n",
    "\n",
    "\n",
    "\n",
    "--!>\n"
   ]
  }
 ],
 "metadata": {
  "kernelspec": {
   "display_name": "Python 3 (ipykernel)",
   "language": "python",
   "name": "python3"
  },
  "language_info": {
   "codemirror_mode": {
    "name": "ipython",
    "version": 3
   },
   "file_extension": ".py",
   "mimetype": "text/x-python",
   "name": "python",
   "nbconvert_exporter": "python",
   "pygments_lexer": "ipython3",
   "version": "3.11.13"
  },
  "prev_pub_hash": "c1170d4cb1c9bbce7dbbef74b645fc6b265a5aaf4ce89c4ac861feed8769ed99"
 },
 "nbformat": 4,
 "nbformat_minor": 4
}
